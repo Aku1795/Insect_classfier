{
 "cells": [
  {
   "cell_type": "markdown",
   "metadata": {},
   "source": [
    "After selecting species and downloading urls to insect pictures from [here](https://www.gbif.org/)\n",
    "\n",
    "This notebook downloads locally all the insect pictures"
   ]
  },
  {
   "cell_type": "markdown",
   "metadata": {},
   "source": [
    "## Necessary libraries"
   ]
  },
  {
   "cell_type": "code",
   "execution_count": null,
   "metadata": {},
   "outputs": [],
   "source": [
    "from bs4 import BeautifulSoup\n",
    "from os.path import basename\n",
    "import requests\n",
    "import os\n",
    "import pandas as pd\n",
    "\n",
    "from multiprocessing.dummy import Pool as ThreadPool\n"
   ]
  },
  {
   "cell_type": "markdown",
   "metadata": {},
   "source": [
    "## Loading and filtering data"
   ]
  },
  {
   "cell_type": "code",
   "execution_count": null,
   "metadata": {},
   "outputs": [],
   "source": [
    "#Loading data\n",
    "multimedia = pd.read_csv(\"multimedia.csv\", sep = ';') #dataframe containing urls for accessing images\n",
    "occurrence = pd.read_csv(\"occurrence.csv\", sep = ';') #dataframe containing information on those images\n",
    "\n",
    "#Merging\n",
    "df_raw = pd.merge(multimedia\n",
    "             , occurrence\n",
    "             , on = 'gbifID'\n",
    "             , how = 'inner')\n"
   ]
  },
  {
   "cell_type": "code",
   "execution_count": null,
   "metadata": {},
   "outputs": [],
   "source": [
    "filter1 = df_raw['basisOfRecord'] == 'HUMAN_OBSERVATION'\n",
    "filter2 = df_raw['format'] == 'image/jpeg'\n",
    "filter3 = df_raw['taxonomicStatus'] == 'ACCEPTED'\n",
    "\n",
    "filter = filter1 & filter2 & filter3\n",
    "\n",
    "df = df_raw[filter]"
   ]
  },
  {
   "cell_type": "markdown",
   "metadata": {},
   "source": [
    "## Fetching images from urls"
   ]
  },
  {
   "cell_type": "code",
   "execution_count": null,
   "metadata": {},
   "outputs": [],
   "source": [
    "def writeImages_bis(url):\n",
    "    filename = 'images_bis' + '/'\n",
    "    os.makedirs(os.path.dirname(filename), exist_ok=True)\n",
    "\n",
    "    with open(filename + basename(url),\"wb\") as f:\n",
    "        f.write(requests.get(url).content)"
   ]
  },
  {
   "cell_type": "code",
   "execution_count": null,
   "metadata": {},
   "outputs": [],
   "source": [
    "# Make the Pool of workers\n",
    "pool = ThreadPool(4)\n",
    "\n",
    "results = pool.map(writeImages_bis, df.iloc[:1000,3].to_list())\n",
    "\n",
    "pool.close()\n",
    "pool.join()"
   ]
  },
  {
   "cell_type": "code",
   "execution_count": null,
   "metadata": {},
   "outputs": [],
   "source": []
  }
 ],
 "metadata": {
  "kernelspec": {
   "display_name": "Python 3",
   "language": "python",
   "name": "python3"
  },
  "language_info": {
   "codemirror_mode": {
    "name": "ipython",
    "version": 3
   },
   "file_extension": ".py",
   "mimetype": "text/x-python",
   "name": "python",
   "nbconvert_exporter": "python",
   "pygments_lexer": "ipython3",
   "version": "3.7.1"
  }
 },
 "nbformat": 4,
 "nbformat_minor": 2
}

{
 "cells": [
  {
   "cell_type": "markdown",
   "metadata": {},
   "source": [
    "## Imports des modules"
   ]
  },
  {
   "cell_type": "code",
   "execution_count": 1,
   "metadata": {},
   "outputs": [],
   "source": [
    "from sklearn.svm import LinearSVC\n",
    "from sklearn.preprocessing import StandardScaler\n",
    "from sklearn.model_selection import train_test_split\n",
    "from scipy.misc import imread\n",
    "from sklearn.externals import joblib\n",
    "\n",
    "import random as rand\n",
    "import numpy as np \n",
    "import cv2\n",
    "import glob\n",
    "import time\n",
    "\n",
    "import matplotlib.pyplot as plt\n",
    "%matplotlib inline\n",
    "\n",
    "from featuresourcer import FeatureSourcer\n",
    "\n",
    "import warnings\n",
    "warnings.filterwarnings('ignore')"
   ]
  },
  {
   "cell_type": "markdown",
   "metadata": {},
   "source": [
    "## Initialisation paramètres"
   ]
  },
  {
   "cell_type": "code",
   "execution_count": 2,
   "metadata": {},
   "outputs": [],
   "source": [
    "#sourcer_params = {\n",
    "#  'color_model': 'yuv',                # hls, hsv, yuv, ycrcb\n",
    "#  'bounding_box_size': 128,             #\n",
    "#  'number_of_orientations': 11,        # 6 - 12\n",
    "#  'pixels_per_cell': 16,               # 8, 16\n",
    "#  'cells_per_block': 2,                # 1, 2\n",
    "#  'do_transform_sqrt': True\n",
    "#}\n",
    "\n",
    "sourcer_params = {\n",
    "    'bounding_box_size': 96,\n",
    "    'cells_per_block': 2,\n",
    "    'color_model': 'hsv',\n",
    "    'number_of_orientations': 6,\n",
    "    'pixels_per_cell': 8\n",
    "}\n",
    "\n",
    "img_size = sourcer_params['bounding_box_size']\n",
    "\n",
    "sourcer = FeatureSourcer(sourcer_params)"
   ]
  },
  {
   "cell_type": "markdown",
   "metadata": {},
   "source": [
    "## Import dataset"
   ]
  },
  {
   "cell_type": "code",
   "execution_count": 3,
   "metadata": {},
   "outputs": [
    {
     "name": "stdout",
     "output_type": "stream",
     "text": [
      "Loading images to memory...\n",
      "... Done\n",
      "Time Taken: 2.1 s\n",
      "Insect images shape:  (85, 96, 96, 3)\n",
      "Non-Insect images shape:  (87, 96, 96, 3)\n"
     ]
    }
   ],
   "source": [
    "print(\"Loading images to memory...\")\n",
    "t_start = time.time()\n",
    "\n",
    "insect_imgs, non_insect_imgs = [], []\n",
    "insect_paths = glob.glob('datasets/cropped/insect/**/*.png')\n",
    "non_insect_paths = glob.glob('datasets/cropped/non_insect/*.png')\n",
    "\n",
    "for path in insect_paths: insect_imgs.append(cv2.resize(cv2.imread(path),(img_size, img_size)))\n",
    "for path in non_insect_paths: non_insect_imgs.append(cv2.resize(cv2.imread(path),(img_size, img_size)))\n",
    "    \n",
    "insect_imgs, non_insect_imgs = np.asarray(insect_imgs), np.asarray(non_insect_imgs)\n",
    "total_insects, total_non_insects = insect_imgs.shape[0], non_insect_imgs.shape[0]\n",
    "\n",
    "print(\"... Done\")\n",
    "print(\"Time Taken:\", np.round(time.time() - t_start, 2), \"s\")\n",
    "print(\"Insect images shape: \", insect_imgs.shape)\n",
    "print(\"Non-Insect images shape: \", non_insect_imgs.shape)"
   ]
  },
  {
   "cell_type": "markdown",
   "metadata": {},
   "source": [
    "## Extraction features"
   ]
  },
  {
   "cell_type": "code",
   "execution_count": 4,
   "metadata": {
    "scrolled": true
   },
   "outputs": [
    {
     "name": "stdout",
     "output_type": "stream",
     "text": [
      "Extracting features... This might take a while...\n",
      "Insect...\n",
      "(96, 96, 3)\n",
      "█(96, 96, 3)\n",
      "█(96, 96, 3)\n",
      "█(96, 96, 3)\n",
      "█(96, 96, 3)\n",
      "█(96, 96, 3)\n",
      "█(96, 96, 3)\n",
      "█(96, 96, 3)\n",
      "█(96, 96, 3)\n",
      "█(96, 96, 3)\n",
      "█(96, 96, 3)\n",
      "█(96, 96, 3)\n",
      "█(96, 96, 3)\n",
      "█(96, 96, 3)\n",
      "█(96, 96, 3)\n",
      "█(96, 96, 3)\n",
      "█(96, 96, 3)\n",
      "█(96, 96, 3)\n",
      "█(96, 96, 3)\n",
      "█(96, 96, 3)\n",
      "█(96, 96, 3)\n",
      "█(96, 96, 3)\n",
      "█(96, 96, 3)\n",
      "█(96, 96, 3)\n",
      "█(96, 96, 3)\n",
      "█(96, 96, 3)\n",
      "█(96, 96, 3)\n",
      "█(96, 96, 3)\n",
      "█(96, 96, 3)\n",
      "█(96, 96, 3)\n",
      "█(96, 96, 3)\n",
      "█(96, 96, 3)\n",
      "█(96, 96, 3)\n",
      "█(96, 96, 3)\n",
      "█(96, 96, 3)\n",
      "█(96, 96, 3)\n",
      "█(96, 96, 3)\n",
      "█(96, 96, 3)\n",
      "█(96, 96, 3)\n",
      "█(96, 96, 3)\n",
      "█(96, 96, 3)\n",
      "█(96, 96, 3)\n",
      "█(96, 96, 3)\n",
      "█(96, 96, 3)\n",
      "█(96, 96, 3)\n",
      "█(96, 96, 3)\n",
      "█(96, 96, 3)\n",
      "█(96, 96, 3)\n",
      "█(96, 96, 3)\n",
      "█(96, 96, 3)\n",
      "█(96, 96, 3)\n",
      "█(96, 96, 3)\n",
      "█(96, 96, 3)\n",
      "█(96, 96, 3)\n",
      "█(96, 96, 3)\n",
      "█(96, 96, 3)\n",
      "█(96, 96, 3)\n",
      "█(96, 96, 3)\n",
      "█(96, 96, 3)\n",
      "█(96, 96, 3)\n",
      "█(96, 96, 3)\n",
      "█(96, 96, 3)\n",
      "█(96, 96, 3)\n",
      "█(96, 96, 3)\n",
      "█(96, 96, 3)\n",
      "█(96, 96, 3)\n",
      "█(96, 96, 3)\n",
      "█(96, 96, 3)\n",
      "█(96, 96, 3)\n",
      "█(96, 96, 3)\n",
      "█(96, 96, 3)\n",
      "█(96, 96, 3)\n",
      "█(96, 96, 3)\n",
      "█(96, 96, 3)\n",
      "█(96, 96, 3)\n",
      "█(96, 96, 3)\n",
      "█(96, 96, 3)\n",
      "█(96, 96, 3)\n",
      "█(96, 96, 3)\n",
      "█(96, 96, 3)\n",
      "█(96, 96, 3)\n",
      "█(96, 96, 3)\n",
      "█(96, 96, 3)\n",
      "█(96, 96, 3)\n",
      "█(96, 96, 3)\n",
      "█\n",
      "Non-Insect...\n",
      "(96, 96, 3)\n",
      "█(96, 96, 3)\n",
      "█(96, 96, 3)\n",
      "█(96, 96, 3)\n",
      "█(96, 96, 3)\n",
      "█(96, 96, 3)\n",
      "█(96, 96, 3)\n",
      "█(96, 96, 3)\n",
      "█(96, 96, 3)\n",
      "█(96, 96, 3)\n",
      "█(96, 96, 3)\n",
      "█(96, 96, 3)\n",
      "█(96, 96, 3)\n",
      "█(96, 96, 3)\n",
      "█(96, 96, 3)\n",
      "█(96, 96, 3)\n",
      "█(96, 96, 3)\n",
      "█(96, 96, 3)\n",
      "█(96, 96, 3)\n",
      "█(96, 96, 3)\n",
      "█(96, 96, 3)\n",
      "█(96, 96, 3)\n",
      "█(96, 96, 3)\n",
      "█(96, 96, 3)\n",
      "█(96, 96, 3)\n",
      "█(96, 96, 3)\n",
      "█(96, 96, 3)\n",
      "█(96, 96, 3)\n",
      "█(96, 96, 3)\n",
      "█(96, 96, 3)\n",
      "█(96, 96, 3)\n",
      "█(96, 96, 3)\n",
      "█(96, 96, 3)\n",
      "█(96, 96, 3)\n",
      "█(96, 96, 3)\n",
      "█(96, 96, 3)\n",
      "█(96, 96, 3)\n",
      "█(96, 96, 3)\n",
      "█(96, 96, 3)\n",
      "█(96, 96, 3)\n",
      "█(96, 96, 3)\n",
      "█(96, 96, 3)\n",
      "█(96, 96, 3)\n",
      "█(96, 96, 3)\n",
      "█(96, 96, 3)\n",
      "█(96, 96, 3)\n",
      "█(96, 96, 3)\n",
      "█(96, 96, 3)\n",
      "█(96, 96, 3)\n",
      "█(96, 96, 3)\n",
      "█(96, 96, 3)\n",
      "█(96, 96, 3)\n",
      "█(96, 96, 3)\n",
      "█(96, 96, 3)\n",
      "█(96, 96, 3)\n",
      "█(96, 96, 3)\n",
      "█(96, 96, 3)\n",
      "█(96, 96, 3)\n",
      "█(96, 96, 3)\n",
      "█(96, 96, 3)\n",
      "█(96, 96, 3)\n",
      "█(96, 96, 3)\n",
      "█(96, 96, 3)\n",
      "█(96, 96, 3)\n",
      "█(96, 96, 3)\n",
      "█(96, 96, 3)\n",
      "█(96, 96, 3)\n",
      "█(96, 96, 3)\n",
      "█(96, 96, 3)\n",
      "█(96, 96, 3)\n",
      "█(96, 96, 3)\n",
      "█(96, 96, 3)\n",
      "█(96, 96, 3)\n",
      "█(96, 96, 3)\n",
      "█(96, 96, 3)\n",
      "█(96, 96, 3)\n",
      "█(96, 96, 3)\n",
      "█(96, 96, 3)\n",
      "█(96, 96, 3)\n",
      "█(96, 96, 3)\n",
      "█(96, 96, 3)\n",
      "█(96, 96, 3)\n",
      "█(96, 96, 3)\n",
      "█(96, 96, 3)\n",
      "█(96, 96, 3)\n",
      "█(96, 96, 3)\n",
      "█(96, 96, 3)\n",
      "█\n",
      "...Done\n",
      "Time Taken: 11.17\n",
      "Insect features shape:  (85, 8712)\n",
      "Non-Insect features shape:  (87, 8712)\n"
     ]
    }
   ],
   "source": [
    "print(\"Extracting features... This might take a while...\")\n",
    "t_start = time.time()\n",
    "\n",
    "insect_features, non_insect_features = [], []\n",
    "\n",
    "print(\"Insect...\")\n",
    "for img in insect_imgs:\n",
    "    insect_features.append(sourcer.features(img))\n",
    "    print('█', end = '')\n",
    "\n",
    "print()\n",
    "print(\"Non-Insect...\")\n",
    "for img in non_insect_imgs:\n",
    "    non_insect_features.append(sourcer.features(img))\n",
    "    print('█', end = '')\n",
    "    \n",
    "insect_features = np.asarray(insect_features)\n",
    "non_insect_features = np.asarray(non_insect_features)\n",
    "\n",
    "print()\n",
    "print(\"...Done\")\n",
    "print(\"Time Taken:\", np.round(time.time() - t_start, 2))\n",
    "print(\"Insect features shape: \", insect_features.shape)\n",
    "print(\"Non-Insect features shape: \", non_insect_features.shape)"
   ]
  },
  {
   "cell_type": "markdown",
   "metadata": {},
   "source": [
    "## Normalisation des features"
   ]
  },
  {
   "cell_type": "code",
   "execution_count": 5,
   "metadata": {},
   "outputs": [
    {
     "name": "stdout",
     "output_type": "stream",
     "text": [
      "Scaling features...\n",
      "(85, 8712)\n",
      "(87, 8712)\n",
      "...Done\n",
      "Time Taken: 0.04\n",
      "x shape:  (172, 8712)  y shape:  (172,)\n"
     ]
    }
   ],
   "source": [
    "print(\"Scaling features...\")\n",
    "t_start = time.time()\n",
    "\n",
    "print(insect_features.shape)\n",
    "print(non_insect_features.shape)\n",
    "\n",
    "unscaled_x = np.vstack((insect_features, non_insect_features)).astype(np.float64)\n",
    "scaler = StandardScaler().fit(unscaled_x)\n",
    "x = scaler.transform(unscaled_x)\n",
    "y = np.hstack((np.ones(total_insects), np.zeros(total_non_insects)))\n",
    "\n",
    "print(\"...Done\")\n",
    "print(\"Time Taken:\", np.round(time.time() - t_start, 2))\n",
    "print(\"x shape: \", x.shape, \" y shape: \", y.shape)"
   ]
  },
  {
   "cell_type": "markdown",
   "metadata": {},
   "source": [
    "## Séparation en dataset entrainement et test"
   ]
  },
  {
   "cell_type": "code",
   "execution_count": 6,
   "metadata": {},
   "outputs": [],
   "source": [
    "x_train, x_test, y_train, y_test = train_test_split(x, y, test_size=0.2, random_state=41)"
   ]
  },
  {
   "cell_type": "markdown",
   "metadata": {},
   "source": [
    "## Entrainement modèle"
   ]
  },
  {
   "cell_type": "code",
   "execution_count": 7,
   "metadata": {
    "scrolled": true
   },
   "outputs": [
    {
     "name": "stdout",
     "output_type": "stream",
     "text": [
      "Training classifier...\n",
      "...Done\n",
      "Time Taken: 0.08\n",
      "Accuracy:  0.9429\n"
     ]
    }
   ],
   "source": [
    "print(\"Training classifier...\")\n",
    "t_start = time.time()\n",
    "\n",
    "svc = LinearSVC()\n",
    "svc.fit(x_train, y_train)\n",
    "accuracy = svc.score(x_test, y_test)\n",
    "\n",
    "print(\"...Done\")\n",
    "print(\"Time Taken:\", np.round(time.time() - t_start, 2))\n",
    "print(\"Accuracy: \", np.round(accuracy, 4))"
   ]
  },
  {
   "cell_type": "markdown",
   "metadata": {},
   "source": [
    "## Sauvegarde modèle"
   ]
  },
  {
   "cell_type": "code",
   "execution_count": 8,
   "metadata": {},
   "outputs": [
    {
     "name": "stdout",
     "output_type": "stream",
     "text": [
      "Saving models...\n",
      "...Done\n"
     ]
    }
   ],
   "source": [
    "print (\"Saving models...\")\n",
    "\n",
    "joblib.dump(svc, 'models/svc2.pkl')\n",
    "joblib.dump(scaler, 'models/scaler2.pkl')\n",
    "\n",
    "print(\"...Done\")"
   ]
  },
  {
   "cell_type": "code",
   "execution_count": 9,
   "metadata": {},
   "outputs": [
    {
     "name": "stdout",
     "output_type": "stream",
     "text": [
      "Loading models...\n",
      "...Done\n"
     ]
    }
   ],
   "source": [
    "print (\"Loading models...\")\n",
    "\n",
    "svc = joblib.load('models/svc2.pkl')\n",
    "scaler = joblib.load('models/scaler2.pkl')\n",
    "\n",
    "print(\"...Done\")"
   ]
  },
  {
   "cell_type": "markdown",
   "metadata": {},
   "source": [
    "## Test manuel du modèle"
   ]
  },
  {
   "cell_type": "code",
   "execution_count": 10,
   "metadata": {},
   "outputs": [
    {
     "name": "stdout",
     "output_type": "stream",
     "text": [
      "87\n",
      "(96, 96, 3)\n",
      "(96, 96, 3)\n",
      "(96, 96, 3)\n",
      "(96, 96, 3)\n",
      "[0. 1. 1. 0.]\n"
     ]
    }
   ],
   "source": [
    "#sourcer = FeatureSourcer(sourcer_params)\n",
    "print(total_non_insects)\n",
    "f1 = sourcer.features(non_insect_imgs[rand.randint(0, total_non_insects - 1)])\n",
    "f2 = sourcer.features(insect_imgs[rand.randint(0, total_insects - 1)])\n",
    "f3 = sourcer.features(insect_imgs[rand.randint(0, total_insects - 1)])\n",
    "f4 = sourcer.features(non_insect_imgs[rand.randint(0, total_non_insects - 1)])\n",
    "\n",
    "f = scaler.transform([f1, f2, f3, f4])\n",
    "print(svc.predict(f))"
   ]
  },
  {
   "cell_type": "code",
   "execution_count": null,
   "metadata": {},
   "outputs": [],
   "source": []
  }
 ],
 "metadata": {
  "kernelspec": {
   "display_name": "Python 3",
   "language": "python",
   "name": "python3"
  },
  "language_info": {
   "codemirror_mode": {
    "name": "ipython",
    "version": 3
   },
   "file_extension": ".py",
   "mimetype": "text/x-python",
   "name": "python",
   "nbconvert_exporter": "python",
   "pygments_lexer": "ipython3",
   "version": "3.7.1"
  },
  "widgets": {
   "state": {},
   "version": "1.1.2"
  }
 },
 "nbformat": 4,
 "nbformat_minor": 2
}

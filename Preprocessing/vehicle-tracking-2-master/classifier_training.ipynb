{
 "cells": [
  {
   "cell_type": "code",
   "execution_count": 9,
   "metadata": {},
   "outputs": [],
   "source": [
    "from sklearn.svm import LinearSVC\n",
    "from sklearn.preprocessing import StandardScaler\n",
    "from sklearn.model_selection import train_test_split\n",
    "from skimage.feature import hog\n",
    "from scipy.misc import imread\n",
    "from sklearn.externals import joblib\n",
    "\n",
    "import random as rand\n",
    "import numpy as np \n",
    "import cv2\n",
    "import glob\n",
    "import time\n",
    "\n",
    "import matplotlib.pyplot as plt\n",
    "%matplotlib inline\n",
    "\n",
    "from helpers import convert, show_images\n",
    "from featuresourcer import FeatureSourcer\n",
    "\n",
    "import warnings\n",
    "warnings.filterwarnings('ignore')"
   ]
  },
  {
   "cell_type": "code",
   "execution_count": 10,
   "metadata": {},
   "outputs": [],
   "source": [
    "sourcer_params = {\n",
    "  'color_model': 'yuv',                # hls, hsv, yuv, ycrcb\n",
    "  'bounding_box_size': 64,             #\n",
    "  'number_of_orientations': 11,        # 6 - 12\n",
    "  'pixels_per_cell': 16,               # 8, 16\n",
    "  'cells_per_block': 2,                # 1, 2\n",
    "  'do_transform_sqrt': True\n",
    "}\n",
    "\n",
    "start_frame = cv2.resize(imread(\"train/insect_pictures/Screenshot 2019-03-07 at 14.50.06.png\"),(150, 150))\n",
    "sourcer = FeatureSourcer(sourcer_params, start_frame)"
   ]
  },
  {
   "cell_type": "code",
   "execution_count": 11,
   "metadata": {},
   "outputs": [
    {
     "name": "stdout",
     "output_type": "stream",
     "text": [
      "Loading images to memory...\n",
      "... Done\n",
      "Time Taken: 0.46\n",
      "Insect images shape:  (9, 64, 64, 4)\n",
      "Non-Insect images shape:  (13, 64, 64, 4)\n",
      "Extracting features... This might take a while...\n",
      "Insect...\n",
      "█████████\n",
      "Non-Insect...\n",
      "█████████████\n",
      "...Done\n",
      "Time Taken: 0.34\n",
      "Insect features shape:  (9, 1188)\n",
      "Non-Insect features shape:  (13, 1188)\n",
      "Scaling features...\n",
      "(9, 1188)\n",
      "(13, 1188)\n",
      "...Done\n",
      "Time Taken: 0.01\n",
      " x shape:  (22, 1188)  y shape:  (22,)\n",
      "Training classifier...\n",
      "(22, 1188) (22,)\n",
      "...Done\n",
      "Time Taken: 0.01\n",
      "Accuracy:  0.4\n"
     ]
    }
   ],
   "source": [
    "print(\"Loading images to memory...\")\n",
    "t_start = time.time()\n",
    "\n",
    "vehicle_imgs, nonvehicle_imgs = [], []\n",
    "vehicle_paths = glob.glob('train/insect_pictures/*.png')\n",
    "nonvehicle_paths = glob.glob('train/non_insect_pictures/*.png')\n",
    "\n",
    "for path in vehicle_paths: vehicle_imgs.append(cv2.resize(imread(path),(64, 64)))\n",
    "for path in nonvehicle_paths: nonvehicle_imgs.append(cv2.resize(imread(path),(64, 64)))\n",
    "\n",
    "vehicle_imgs, nonvehicle_imgs = np.asarray(vehicle_imgs), np.asarray(nonvehicle_imgs)\n",
    "total_vehicles, total_nonvehicles = vehicle_imgs.shape[0], nonvehicle_imgs.shape[0]\n",
    "\n",
    "print(\"... Done\")\n",
    "print(\"Time Taken:\", np.round(time.time() - t_start, 2))\n",
    "print(\"Insect images shape: \", vehicle_imgs.shape)\n",
    "print(\"Non-Insect images shape: \", nonvehicle_imgs.shape)\n",
    "\n",
    "print(\"Extracting features... This might take a while...\")\n",
    "t_start = time.time()\n",
    "\n",
    "vehicles_features, nonvehicles_features = [], []\n",
    "\n",
    "print(\"Insect...\")\n",
    "for img in vehicle_imgs:\n",
    "  vehicles_features.append(sourcer.features(img))\n",
    "  print('█', end = '')\n",
    "\n",
    "print()\n",
    "print(\"Non-Insect...\")\n",
    "for img in nonvehicle_imgs:\n",
    "  nonvehicles_features.append(sourcer.features(img))\n",
    "  print('█', end = '')\n",
    "    \n",
    "vehicles_features = np.asarray(vehicles_features)\n",
    "nonvehicles_features = np.asarray(nonvehicles_features)\n",
    "\n",
    "print()\n",
    "print(\"...Done\")\n",
    "print(\"Time Taken:\", np.round(time.time() - t_start, 2))\n",
    "print(\"Insect features shape: \", vehicles_features.shape)\n",
    "print(\"Non-Insect features shape: \", nonvehicles_features.shape)\n",
    "\n",
    "print(\"Scaling features...\")\n",
    "t_start = time.time()\n",
    "\n",
    "print(vehicles_features.shape)\n",
    "print(nonvehicles_features.shape)\n",
    "\n",
    "unscaled_x = np.vstack((vehicles_features, nonvehicles_features)).astype(np.float64)\n",
    "scaler = StandardScaler().fit(unscaled_x)\n",
    "x = scaler.transform(unscaled_x)\n",
    "y = np.hstack((np.ones(total_vehicles), np.zeros(total_nonvehicles)))\n",
    "\n",
    "print(\"...Done\")\n",
    "print(\"Time Taken:\", np.round(time.time() - t_start, 2))\n",
    "print(\" x shape: \", x.shape, \" y shape: \", y.shape)\n",
    "\n",
    "print(\"Training classifier...\")\n",
    "t_start = time.time()\n",
    "\n",
    "print(x.shape,y.shape)\n",
    "\n",
    "x_train, x_test, y_train, y_test = train_test_split(x, y, test_size = 0.2,\n",
    "                                                    random_state = rand.randint(1, 100))\n",
    "svc = LinearSVC()\n",
    "svc.fit(x_train, y_train)\n",
    "accuracy = svc.score(x_test, y_test)\n",
    "\n",
    "print(\"...Done\")\n",
    "print(\"Time Taken:\", np.round(time.time() - t_start, 2))\n",
    "print(\"Accuracy: \", np.round(accuracy, 4))"
   ]
  },
  {
   "cell_type": "code",
   "execution_count": 12,
   "metadata": {},
   "outputs": [
    {
     "name": "stdout",
     "output_type": "stream",
     "text": [
      "[1. 1. 1. 0.]\n"
     ]
    }
   ],
   "source": [
    "sourcer = FeatureSourcer(sourcer_params, start_frame)\n",
    "\n",
    "f1 = sourcer.features(nonvehicle_imgs[rand.randint(0, total_nonvehicles - 1)])\n",
    "f2 = sourcer.features(vehicle_imgs[rand.randint(0, total_vehicles - 1)])\n",
    "f3 = sourcer.features(vehicle_imgs[rand.randint(0, total_vehicles - 1)])\n",
    "f4 = sourcer.features(nonvehicle_imgs[rand.randint(0, total_nonvehicles - 1)])\n",
    "\n",
    "f = scaler.transform([f1, f2, f3, f4])\n",
    "print(svc.predict(f))"
   ]
  },
  {
   "cell_type": "code",
   "execution_count": 13,
   "metadata": {},
   "outputs": [
    {
     "name": "stdout",
     "output_type": "stream",
     "text": [
      "Saving models...\n",
      "...Done\n"
     ]
    }
   ],
   "source": [
    "print (\"Saving models...\")\n",
    "\n",
    "joblib.dump(svc, 'svc2.pkl')\n",
    "joblib.dump(scaler, 'scaler2.pkl')\n",
    "\n",
    "print(\"...Done\")"
   ]
  },
  {
   "cell_type": "code",
   "execution_count": 14,
   "metadata": {},
   "outputs": [
    {
     "name": "stdout",
     "output_type": "stream",
     "text": [
      "Loading models...\n",
      "...Done\n"
     ]
    }
   ],
   "source": [
    "print (\"Loading models...\")\n",
    "\n",
    "svc = joblib.load('svc2.pkl')\n",
    "scaler = joblib.load('scaler2.pkl')\n",
    "\n",
    "print(\"...Done\")"
   ]
  },
  {
   "cell_type": "code",
   "execution_count": 15,
   "metadata": {},
   "outputs": [
    {
     "name": "stdout",
     "output_type": "stream",
     "text": [
      "13\n",
      "[1. 1. 1. 1.]\n"
     ]
    }
   ],
   "source": [
    "sourcer = FeatureSourcer(sourcer_params, start_frame)\n",
    "print(total_nonvehicles)\n",
    "f1 = sourcer.features(nonvehicle_imgs[rand.randint(0, total_nonvehicles - 1)])\n",
    "f2 = sourcer.features(vehicle_imgs[rand.randint(0, total_vehicles - 1)])\n",
    "f3 = sourcer.features(vehicle_imgs[rand.randint(0, total_vehicles - 1)])\n",
    "f4 = sourcer.features(nonvehicle_imgs[rand.randint(0, total_nonvehicles - 1)])\n",
    "\n",
    "f = scaler.transform([f1, f2, f3, f4])\n",
    "print(svc.predict(f))"
   ]
  },
  {
   "cell_type": "code",
   "execution_count": null,
   "metadata": {},
   "outputs": [],
   "source": []
  },
  {
   "cell_type": "code",
   "execution_count": null,
   "metadata": {},
   "outputs": [],
   "source": []
  }
 ],
 "metadata": {
  "kernelspec": {
   "display_name": "Python 3",
   "language": "python",
   "name": "python3"
  },
  "language_info": {
   "codemirror_mode": {
    "name": "ipython",
    "version": 3
   },
   "file_extension": ".py",
   "mimetype": "text/x-python",
   "name": "python",
   "nbconvert_exporter": "python",
   "pygments_lexer": "ipython3",
   "version": "3.6.5"
  },
  "widgets": {
   "state": {},
   "version": "1.1.2"
  }
 },
 "nbformat": 4,
 "nbformat_minor": 2
}
